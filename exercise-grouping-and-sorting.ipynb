{
 "cells": [
  {
   "cell_type": "markdown",
   "id": "59173196",
   "metadata": {
    "papermill": {
     "duration": 0.00578,
     "end_time": "2022-11-28T17:46:29.899914",
     "exception": false,
     "start_time": "2022-11-28T17:46:29.894134",
     "status": "completed"
    },
    "tags": []
   },
   "source": [
    "**This notebook is an exercise in the [Pandas](https://www.kaggle.com/learn/pandas) course.  You can reference the tutorial at [this link](https://www.kaggle.com/residentmario/grouping-and-sorting).**\n",
    "\n",
    "---\n"
   ]
  },
  {
   "cell_type": "markdown",
   "id": "36d89824",
   "metadata": {
    "papermill": {
     "duration": 0.00454,
     "end_time": "2022-11-28T17:46:29.909355",
     "exception": false,
     "start_time": "2022-11-28T17:46:29.904815",
     "status": "completed"
    },
    "tags": []
   },
   "source": [
    "# Introduction\n",
    "\n",
    "In these exercises we'll apply groupwise analysis to our dataset.\n",
    "\n",
    "Run the code cell below to load the data before running the exercises."
   ]
  },
  {
   "cell_type": "code",
   "execution_count": 1,
   "id": "e310f7b6",
   "metadata": {
    "execution": {
     "iopub.execute_input": "2022-11-28T17:46:29.920831Z",
     "iopub.status.busy": "2022-11-28T17:46:29.920299Z",
     "iopub.status.idle": "2022-11-28T17:46:32.286189Z",
     "shell.execute_reply": "2022-11-28T17:46:32.285252Z"
    },
    "papermill": {
     "duration": 2.375237,
     "end_time": "2022-11-28T17:46:32.289379",
     "exception": false,
     "start_time": "2022-11-28T17:46:29.914142",
     "status": "completed"
    },
    "tags": []
   },
   "outputs": [
    {
     "name": "stdout",
     "output_type": "stream",
     "text": [
      "Setup complete.\n"
     ]
    }
   ],
   "source": [
    "import pandas as pd\n",
    "\n",
    "reviews = pd.read_csv(\"../input/wine-reviews/winemag-data-130k-v2.csv\", index_col=0)\n",
    "#pd.set_option(\"display.max_rows\", 5)\n",
    "\n",
    "from learntools.core import binder; binder.bind(globals())\n",
    "from learntools.pandas.grouping_and_sorting import *\n",
    "print(\"Setup complete.\")"
   ]
  },
  {
   "cell_type": "markdown",
   "id": "38798d36",
   "metadata": {
    "papermill": {
     "duration": 0.00491,
     "end_time": "2022-11-28T17:46:32.300915",
     "exception": false,
     "start_time": "2022-11-28T17:46:32.296005",
     "status": "completed"
    },
    "tags": []
   },
   "source": [
    "# Exercises"
   ]
  },
  {
   "cell_type": "markdown",
   "id": "20e0291a",
   "metadata": {
    "papermill": {
     "duration": 0.004834,
     "end_time": "2022-11-28T17:46:32.310839",
     "exception": false,
     "start_time": "2022-11-28T17:46:32.306005",
     "status": "completed"
    },
    "tags": []
   },
   "source": [
    "## 1.\n",
    "Who are the most common wine reviewers in the dataset? Create a `Series` whose index is the `taster_twitter_handle` category from the dataset, and whose values count how many reviews each person wrote."
   ]
  },
  {
   "cell_type": "code",
   "execution_count": 2,
   "id": "a2a93561",
   "metadata": {
    "execution": {
     "iopub.execute_input": "2022-11-28T17:46:32.322805Z",
     "iopub.status.busy": "2022-11-28T17:46:32.322383Z",
     "iopub.status.idle": "2022-11-28T17:46:32.347811Z",
     "shell.execute_reply": "2022-11-28T17:46:32.346707Z"
    },
    "papermill": {
     "duration": 0.034402,
     "end_time": "2022-11-28T17:46:32.350259",
     "exception": false,
     "start_time": "2022-11-28T17:46:32.315857",
     "status": "completed"
    },
    "tags": []
   },
   "outputs": [
    {
     "data": {
      "application/javascript": [
       "parent.postMessage({\"jupyterEvent\": \"custom.exercise_interaction\", \"data\": {\"outcomeType\": 1, \"valueTowardsCompletion\": 0.16666666666666666, \"interactionType\": 1, \"questionType\": 1, \"questionId\": \"1_ReviewsWritten\", \"learnToolsVersion\": \"0.3.4\", \"failureMessage\": \"\", \"exceptionClass\": \"\", \"trace\": \"\"}}, \"*\")"
      ],
      "text/plain": [
       "<IPython.core.display.Javascript object>"
      ]
     },
     "metadata": {},
     "output_type": "display_data"
    },
    {
     "data": {
      "text/markdown": [
       "<span style=\"color:#33cc33\">Correct:</span> \n",
       "\n",
       "\n",
       "```python\n",
       "reviews_written = reviews.groupby('taster_twitter_handle').size()\n",
       "```\n",
       "or\n",
       "```python\n",
       "reviews_written = reviews.groupby('taster_twitter_handle').taster_twitter_handle.count()\n",
       "```\n"
      ],
      "text/plain": [
       "Correct: \n",
       "\n",
       "\n",
       "```python\n",
       "reviews_written = reviews.groupby('taster_twitter_handle').size()\n",
       "```\n",
       "or\n",
       "```python\n",
       "reviews_written = reviews.groupby('taster_twitter_handle').taster_twitter_handle.count()\n",
       "```"
      ]
     },
     "metadata": {},
     "output_type": "display_data"
    }
   ],
   "source": [
    "# Your code here\n",
    "reviews_written = reviews.groupby('taster_twitter_handle').taster_twitter_handle.count()\n",
    "\n",
    "# Check your answer\n",
    "q1.check()"
   ]
  },
  {
   "cell_type": "code",
   "execution_count": 3,
   "id": "60f64f76",
   "metadata": {
    "execution": {
     "iopub.execute_input": "2022-11-28T17:46:32.362695Z",
     "iopub.status.busy": "2022-11-28T17:46:32.362285Z",
     "iopub.status.idle": "2022-11-28T17:46:32.367316Z",
     "shell.execute_reply": "2022-11-28T17:46:32.365919Z"
    },
    "papermill": {
     "duration": 0.013965,
     "end_time": "2022-11-28T17:46:32.369751",
     "exception": false,
     "start_time": "2022-11-28T17:46:32.355786",
     "status": "completed"
    },
    "tags": []
   },
   "outputs": [],
   "source": [
    "#q1.hint()\n",
    "#q1.solution()"
   ]
  },
  {
   "cell_type": "markdown",
   "id": "6ce1c6a4",
   "metadata": {
    "papermill": {
     "duration": 0.00612,
     "end_time": "2022-11-28T17:46:32.381364",
     "exception": false,
     "start_time": "2022-11-28T17:46:32.375244",
     "status": "completed"
    },
    "tags": []
   },
   "source": [
    "## 2.\n",
    "What is the best wine I can buy for a given amount of money? Create a `Series` whose index is wine prices and whose values is the maximum number of points a wine costing that much was given in a review. Sort the values by price, ascending (so that `4.0` dollars is at the top and `3300.0` dollars is at the bottom)."
   ]
  },
  {
   "cell_type": "code",
   "execution_count": 4,
   "id": "d4b64f9b",
   "metadata": {
    "execution": {
     "iopub.execute_input": "2022-11-28T17:46:32.393094Z",
     "iopub.status.busy": "2022-11-28T17:46:32.392726Z",
     "iopub.status.idle": "2022-11-28T17:46:32.404095Z",
     "shell.execute_reply": "2022-11-28T17:46:32.403467Z"
    },
    "papermill": {
     "duration": 0.019457,
     "end_time": "2022-11-28T17:46:32.405941",
     "exception": false,
     "start_time": "2022-11-28T17:46:32.386484",
     "status": "completed"
    },
    "tags": []
   },
   "outputs": [
    {
     "data": {
      "application/javascript": [
       "parent.postMessage({\"jupyterEvent\": \"custom.exercise_interaction\", \"data\": {\"outcomeType\": 1, \"valueTowardsCompletion\": 0.16666666666666666, \"interactionType\": 1, \"questionType\": 1, \"questionId\": \"2_BestRatingPerPrice\", \"learnToolsVersion\": \"0.3.4\", \"failureMessage\": \"\", \"exceptionClass\": \"\", \"trace\": \"\"}}, \"*\")"
      ],
      "text/plain": [
       "<IPython.core.display.Javascript object>"
      ]
     },
     "metadata": {},
     "output_type": "display_data"
    },
    {
     "data": {
      "text/markdown": [
       "<span style=\"color:#33cc33\">Correct</span>"
      ],
      "text/plain": [
       "Correct"
      ]
     },
     "metadata": {},
     "output_type": "display_data"
    }
   ],
   "source": [
    "sorted_price = reviews.groupby('price').points.max()\n",
    "\n",
    "best_rating_per_price = sorted_price.sort_index( axis = 0)\n",
    "\n",
    "# Check your answer\n",
    "q2.check()"
   ]
  },
  {
   "cell_type": "code",
   "execution_count": 5,
   "id": "bab15c58",
   "metadata": {
    "execution": {
     "iopub.execute_input": "2022-11-28T17:46:32.419145Z",
     "iopub.status.busy": "2022-11-28T17:46:32.418753Z",
     "iopub.status.idle": "2022-11-28T17:46:32.429913Z",
     "shell.execute_reply": "2022-11-28T17:46:32.428950Z"
    },
    "papermill": {
     "duration": 0.02033,
     "end_time": "2022-11-28T17:46:32.432116",
     "exception": false,
     "start_time": "2022-11-28T17:46:32.411786",
     "status": "completed"
    },
    "tags": []
   },
   "outputs": [
    {
     "data": {
      "application/javascript": [
       "parent.postMessage({\"jupyterEvent\": \"custom.exercise_interaction\", \"data\": {\"interactionType\": 2, \"questionType\": 1, \"questionId\": \"2_BestRatingPerPrice\", \"learnToolsVersion\": \"0.3.4\", \"valueTowardsCompletion\": 0.0, \"failureMessage\": \"\", \"exceptionClass\": \"\", \"trace\": \"\", \"outcomeType\": 4}}, \"*\")"
      ],
      "text/plain": [
       "<IPython.core.display.Javascript object>"
      ]
     },
     "metadata": {},
     "output_type": "display_data"
    },
    {
     "data": {
      "text/markdown": [
       "<span style=\"color:#3366cc\">Hint:</span> Use `max()` and `sort_index()`.  The relevant columns in the DataFrame are `price` and `points`."
      ],
      "text/plain": [
       "Hint: Use `max()` and `sort_index()`.  The relevant columns in the DataFrame are `price` and `points`."
      ]
     },
     "metadata": {},
     "output_type": "display_data"
    },
    {
     "data": {
      "application/javascript": [
       "parent.postMessage({\"jupyterEvent\": \"custom.exercise_interaction\", \"data\": {\"interactionType\": 3, \"questionType\": 1, \"questionId\": \"2_BestRatingPerPrice\", \"learnToolsVersion\": \"0.3.4\", \"valueTowardsCompletion\": 0.0, \"failureMessage\": \"\", \"exceptionClass\": \"\", \"trace\": \"\", \"outcomeType\": 4}}, \"*\")"
      ],
      "text/plain": [
       "<IPython.core.display.Javascript object>"
      ]
     },
     "metadata": {},
     "output_type": "display_data"
    },
    {
     "data": {
      "text/markdown": [
       "<span style=\"color:#33cc99\">Solution:</span> \n",
       "```python\n",
       "best_rating_per_price = reviews.groupby('price')['points'].max().sort_index()\n",
       "```"
      ],
      "text/plain": [
       "Solution: \n",
       "```python\n",
       "best_rating_per_price = reviews.groupby('price')['points'].max().sort_index()\n",
       "```"
      ]
     },
     "metadata": {},
     "output_type": "display_data"
    }
   ],
   "source": [
    "q2.hint()\n",
    "q2.solution()"
   ]
  },
  {
   "cell_type": "markdown",
   "id": "bcb78332",
   "metadata": {
    "papermill": {
     "duration": 0.005818,
     "end_time": "2022-11-28T17:46:32.443935",
     "exception": false,
     "start_time": "2022-11-28T17:46:32.438117",
     "status": "completed"
    },
    "tags": []
   },
   "source": [
    "## 3.\n",
    "What are the minimum and maximum prices for each `variety` of wine? Create a `DataFrame` whose index is the `variety` category from the dataset and whose values are the `min` and `max` values thereof."
   ]
  },
  {
   "cell_type": "code",
   "execution_count": 6,
   "id": "c3cd8d35",
   "metadata": {
    "execution": {
     "iopub.execute_input": "2022-11-28T17:46:32.457010Z",
     "iopub.status.busy": "2022-11-28T17:46:32.456659Z",
     "iopub.status.idle": "2022-11-28T17:46:32.478514Z",
     "shell.execute_reply": "2022-11-28T17:46:32.477793Z"
    },
    "papermill": {
     "duration": 0.030552,
     "end_time": "2022-11-28T17:46:32.480378",
     "exception": false,
     "start_time": "2022-11-28T17:46:32.449826",
     "status": "completed"
    },
    "tags": []
   },
   "outputs": [
    {
     "data": {
      "application/javascript": [
       "parent.postMessage({\"jupyterEvent\": \"custom.exercise_interaction\", \"data\": {\"outcomeType\": 1, \"valueTowardsCompletion\": 0.16666666666666666, \"interactionType\": 1, \"questionType\": 1, \"questionId\": \"3_PriceExtremes\", \"learnToolsVersion\": \"0.3.4\", \"failureMessage\": \"\", \"exceptionClass\": \"\", \"trace\": \"\"}}, \"*\")"
      ],
      "text/plain": [
       "<IPython.core.display.Javascript object>"
      ]
     },
     "metadata": {},
     "output_type": "display_data"
    },
    {
     "data": {
      "text/markdown": [
       "<span style=\"color:#33cc33\">Correct</span>"
      ],
      "text/plain": [
       "Correct"
      ]
     },
     "metadata": {},
     "output_type": "display_data"
    }
   ],
   "source": [
    "price_extremes = reviews.groupby('variety').price.agg([min, max])\n",
    "\n",
    "# Check your answer\n",
    "q3.check()"
   ]
  },
  {
   "cell_type": "code",
   "execution_count": 7,
   "id": "da03646c",
   "metadata": {
    "execution": {
     "iopub.execute_input": "2022-11-28T17:46:32.494648Z",
     "iopub.status.busy": "2022-11-28T17:46:32.493968Z",
     "iopub.status.idle": "2022-11-28T17:46:32.498836Z",
     "shell.execute_reply": "2022-11-28T17:46:32.497821Z"
    },
    "papermill": {
     "duration": 0.014341,
     "end_time": "2022-11-28T17:46:32.500964",
     "exception": false,
     "start_time": "2022-11-28T17:46:32.486623",
     "status": "completed"
    },
    "tags": []
   },
   "outputs": [],
   "source": [
    "#q3.hint()\n",
    "#q3.solution()"
   ]
  },
  {
   "cell_type": "markdown",
   "id": "5becb0c6",
   "metadata": {
    "papermill": {
     "duration": 0.006224,
     "end_time": "2022-11-28T17:46:32.513847",
     "exception": false,
     "start_time": "2022-11-28T17:46:32.507623",
     "status": "completed"
    },
    "tags": []
   },
   "source": [
    "## 4.\n",
    "What are the most expensive wine varieties? Create a variable `sorted_varieties` containing a copy of the dataframe from the previous question where varieties are sorted in descending order based on minimum price, then on maximum price (to break ties)."
   ]
  },
  {
   "cell_type": "code",
   "execution_count": 8,
   "id": "e2b6365f",
   "metadata": {
    "execution": {
     "iopub.execute_input": "2022-11-28T17:46:32.528345Z",
     "iopub.status.busy": "2022-11-28T17:46:32.527995Z",
     "iopub.status.idle": "2022-11-28T17:46:32.552932Z",
     "shell.execute_reply": "2022-11-28T17:46:32.551896Z"
    },
    "papermill": {
     "duration": 0.034816,
     "end_time": "2022-11-28T17:46:32.555053",
     "exception": false,
     "start_time": "2022-11-28T17:46:32.520237",
     "status": "completed"
    },
    "tags": []
   },
   "outputs": [
    {
     "data": {
      "application/javascript": [
       "parent.postMessage({\"jupyterEvent\": \"custom.exercise_interaction\", \"data\": {\"outcomeType\": 1, \"valueTowardsCompletion\": 0.16666666666666666, \"interactionType\": 1, \"questionType\": 1, \"questionId\": \"4_SortedVarieties\", \"learnToolsVersion\": \"0.3.4\", \"failureMessage\": \"\", \"exceptionClass\": \"\", \"trace\": \"\"}}, \"*\")"
      ],
      "text/plain": [
       "<IPython.core.display.Javascript object>"
      ]
     },
     "metadata": {},
     "output_type": "display_data"
    },
    {
     "data": {
      "text/markdown": [
       "<span style=\"color:#33cc33\">Correct</span>"
      ],
      "text/plain": [
       "Correct"
      ]
     },
     "metadata": {},
     "output_type": "display_data"
    }
   ],
   "source": [
    "sorted_varieties = reviews.groupby('variety').price.agg([min, max]).sort_values( by = ['min', 'max'], ascending = [False, False])\n",
    "\n",
    "# Check your answer\n",
    "q4.check()"
   ]
  },
  {
   "cell_type": "code",
   "execution_count": 9,
   "id": "467f09bb",
   "metadata": {
    "execution": {
     "iopub.execute_input": "2022-11-28T17:46:32.569453Z",
     "iopub.status.busy": "2022-11-28T17:46:32.568692Z",
     "iopub.status.idle": "2022-11-28T17:46:32.576188Z",
     "shell.execute_reply": "2022-11-28T17:46:32.574950Z"
    },
    "papermill": {
     "duration": 0.016684,
     "end_time": "2022-11-28T17:46:32.578170",
     "exception": false,
     "start_time": "2022-11-28T17:46:32.561486",
     "status": "completed"
    },
    "tags": []
   },
   "outputs": [
    {
     "data": {
      "application/javascript": [
       "parent.postMessage({\"jupyterEvent\": \"custom.exercise_interaction\", \"data\": {\"interactionType\": 3, \"questionType\": 1, \"questionId\": \"4_SortedVarieties\", \"learnToolsVersion\": \"0.3.4\", \"valueTowardsCompletion\": 0.0, \"failureMessage\": \"\", \"exceptionClass\": \"\", \"trace\": \"\", \"outcomeType\": 4}}, \"*\")"
      ],
      "text/plain": [
       "<IPython.core.display.Javascript object>"
      ]
     },
     "metadata": {},
     "output_type": "display_data"
    },
    {
     "data": {
      "text/markdown": [
       "<span style=\"color:#33cc99\">Solution:</span> \n",
       "```python\n",
       "sorted_varieties = price_extremes.sort_values(by=['min', 'max'], ascending=False)\n",
       "```"
      ],
      "text/plain": [
       "Solution: \n",
       "```python\n",
       "sorted_varieties = price_extremes.sort_values(by=['min', 'max'], ascending=False)\n",
       "```"
      ]
     },
     "metadata": {},
     "output_type": "display_data"
    }
   ],
   "source": [
    "#q4.hint()\n",
    "q4.solution()"
   ]
  },
  {
   "cell_type": "markdown",
   "id": "627c2c48",
   "metadata": {
    "papermill": {
     "duration": 0.006234,
     "end_time": "2022-11-28T17:46:32.591115",
     "exception": false,
     "start_time": "2022-11-28T17:46:32.584881",
     "status": "completed"
    },
    "tags": []
   },
   "source": [
    "## 5.\n",
    "Create a `Series` whose index is reviewers and whose values is the average review score given out by that reviewer. Hint: you will need the `taster_name` and `points` columns."
   ]
  },
  {
   "cell_type": "code",
   "execution_count": 10,
   "id": "311168dc",
   "metadata": {
    "execution": {
     "iopub.execute_input": "2022-11-28T17:46:32.605404Z",
     "iopub.status.busy": "2022-11-28T17:46:32.605062Z",
     "iopub.status.idle": "2022-11-28T17:46:32.622621Z",
     "shell.execute_reply": "2022-11-28T17:46:32.621649Z"
    },
    "papermill": {
     "duration": 0.02689,
     "end_time": "2022-11-28T17:46:32.624436",
     "exception": false,
     "start_time": "2022-11-28T17:46:32.597546",
     "status": "completed"
    },
    "tags": []
   },
   "outputs": [
    {
     "data": {
      "application/javascript": [
       "parent.postMessage({\"jupyterEvent\": \"custom.exercise_interaction\", \"data\": {\"outcomeType\": 1, \"valueTowardsCompletion\": 0.16666666666666666, \"interactionType\": 1, \"questionType\": 1, \"questionId\": \"5_ReviewerMeanRatings\", \"learnToolsVersion\": \"0.3.4\", \"failureMessage\": \"\", \"exceptionClass\": \"\", \"trace\": \"\"}}, \"*\")"
      ],
      "text/plain": [
       "<IPython.core.display.Javascript object>"
      ]
     },
     "metadata": {},
     "output_type": "display_data"
    },
    {
     "data": {
      "text/markdown": [
       "<span style=\"color:#33cc33\">Correct</span>"
      ],
      "text/plain": [
       "Correct"
      ]
     },
     "metadata": {},
     "output_type": "display_data"
    }
   ],
   "source": [
    "reviewer_mean_ratings = reviews.groupby('taster_name').points.mean()\n",
    "\n",
    "# Check your answer\n",
    "q5.check()"
   ]
  },
  {
   "cell_type": "code",
   "execution_count": 11,
   "id": "e443d18e",
   "metadata": {
    "execution": {
     "iopub.execute_input": "2022-11-28T17:46:32.639623Z",
     "iopub.status.busy": "2022-11-28T17:46:32.639218Z",
     "iopub.status.idle": "2022-11-28T17:46:32.646303Z",
     "shell.execute_reply": "2022-11-28T17:46:32.645648Z"
    },
    "papermill": {
     "duration": 0.016571,
     "end_time": "2022-11-28T17:46:32.647972",
     "exception": false,
     "start_time": "2022-11-28T17:46:32.631401",
     "status": "completed"
    },
    "tags": []
   },
   "outputs": [
    {
     "data": {
      "application/javascript": [
       "parent.postMessage({\"jupyterEvent\": \"custom.exercise_interaction\", \"data\": {\"interactionType\": 2, \"questionType\": 1, \"questionId\": \"5_ReviewerMeanRatings\", \"learnToolsVersion\": \"0.3.4\", \"valueTowardsCompletion\": 0.0, \"failureMessage\": \"\", \"exceptionClass\": \"\", \"trace\": \"\", \"outcomeType\": 4}}, \"*\")"
      ],
      "text/plain": [
       "<IPython.core.display.Javascript object>"
      ]
     },
     "metadata": {},
     "output_type": "display_data"
    },
    {
     "data": {
      "text/markdown": [
       "<span style=\"color:#3366cc\">Hint:</span> Use `mean()`."
      ],
      "text/plain": [
       "Hint: Use `mean()`."
      ]
     },
     "metadata": {},
     "output_type": "display_data"
    }
   ],
   "source": [
    "q5.hint()\n",
    "#q5.solution()"
   ]
  },
  {
   "cell_type": "markdown",
   "id": "414ab86d",
   "metadata": {
    "papermill": {
     "duration": 0.006877,
     "end_time": "2022-11-28T17:46:32.661942",
     "exception": false,
     "start_time": "2022-11-28T17:46:32.655065",
     "status": "completed"
    },
    "tags": []
   },
   "source": [
    "Are there significant differences in the average scores assigned by the various reviewers? Run the cell below to use the `describe()` method to see a summary of the range of values."
   ]
  },
  {
   "cell_type": "code",
   "execution_count": 12,
   "id": "2d07c57f",
   "metadata": {
    "execution": {
     "iopub.execute_input": "2022-11-28T17:46:32.677761Z",
     "iopub.status.busy": "2022-11-28T17:46:32.677392Z",
     "iopub.status.idle": "2022-11-28T17:46:32.689185Z",
     "shell.execute_reply": "2022-11-28T17:46:32.688150Z"
    },
    "papermill": {
     "duration": 0.022293,
     "end_time": "2022-11-28T17:46:32.691351",
     "exception": false,
     "start_time": "2022-11-28T17:46:32.669058",
     "status": "completed"
    },
    "tags": []
   },
   "outputs": [
    {
     "data": {
      "text/plain": [
       "count    19.000000\n",
       "mean     88.233026\n",
       "std       1.243610\n",
       "min      85.855422\n",
       "25%      87.323501\n",
       "50%      88.536235\n",
       "75%      88.975256\n",
       "max      90.562551\n",
       "Name: points, dtype: float64"
      ]
     },
     "execution_count": 12,
     "metadata": {},
     "output_type": "execute_result"
    }
   ],
   "source": [
    "reviewer_mean_ratings.describe()"
   ]
  },
  {
   "cell_type": "markdown",
   "id": "123353d1",
   "metadata": {
    "papermill": {
     "duration": 0.006868,
     "end_time": "2022-11-28T17:46:32.705750",
     "exception": false,
     "start_time": "2022-11-28T17:46:32.698882",
     "status": "completed"
    },
    "tags": []
   },
   "source": [
    "## 6.\n",
    "What combination of countries and varieties are most common? Create a `Series` whose index is a `MultiIndex`of `{country, variety}` pairs. For example, a pinot noir produced in the US should map to `{\"US\", \"Pinot Noir\"}`. Sort the values in the `Series` in descending order based on wine count."
   ]
  },
  {
   "cell_type": "code",
   "execution_count": 13,
   "id": "17b85289",
   "metadata": {
    "execution": {
     "iopub.execute_input": "2022-11-28T17:46:32.722535Z",
     "iopub.status.busy": "2022-11-28T17:46:32.721426Z",
     "iopub.status.idle": "2022-11-28T17:46:32.757291Z",
     "shell.execute_reply": "2022-11-28T17:46:32.756242Z"
    },
    "papermill": {
     "duration": 0.046366,
     "end_time": "2022-11-28T17:46:32.759151",
     "exception": false,
     "start_time": "2022-11-28T17:46:32.712785",
     "status": "completed"
    },
    "tags": []
   },
   "outputs": [
    {
     "data": {
      "application/javascript": [
       "parent.postMessage({\"jupyterEvent\": \"custom.exercise_interaction\", \"data\": {\"outcomeType\": 1, \"valueTowardsCompletion\": 0.16666666666666666, \"interactionType\": 1, \"questionType\": 1, \"questionId\": \"6_GroupbyCountryVariety\", \"learnToolsVersion\": \"0.3.4\", \"failureMessage\": \"\", \"exceptionClass\": \"\", \"trace\": \"\"}}, \"*\")"
      ],
      "text/plain": [
       "<IPython.core.display.Javascript object>"
      ]
     },
     "metadata": {},
     "output_type": "display_data"
    },
    {
     "data": {
      "text/markdown": [
       "<span style=\"color:#33cc33\">Correct</span>"
      ],
      "text/plain": [
       "Correct"
      ]
     },
     "metadata": {},
     "output_type": "display_data"
    }
   ],
   "source": [
    "country_variety_counts = reviews.groupby(['country', 'variety']).winery.count().sort_values( ascending = False)\n",
    "\n",
    "# Check your answer\n",
    "q6.check()"
   ]
  },
  {
   "cell_type": "code",
   "execution_count": 14,
   "id": "638512fd",
   "metadata": {
    "execution": {
     "iopub.execute_input": "2022-11-28T17:46:32.776123Z",
     "iopub.status.busy": "2022-11-28T17:46:32.775444Z",
     "iopub.status.idle": "2022-11-28T17:46:32.784002Z",
     "shell.execute_reply": "2022-11-28T17:46:32.783053Z"
    },
    "papermill": {
     "duration": 0.019709,
     "end_time": "2022-11-28T17:46:32.785990",
     "exception": false,
     "start_time": "2022-11-28T17:46:32.766281",
     "status": "completed"
    },
    "tags": []
   },
   "outputs": [
    {
     "data": {
      "application/javascript": [
       "parent.postMessage({\"jupyterEvent\": \"custom.exercise_interaction\", \"data\": {\"interactionType\": 3, \"questionType\": 1, \"questionId\": \"6_GroupbyCountryVariety\", \"learnToolsVersion\": \"0.3.4\", \"valueTowardsCompletion\": 0.0, \"failureMessage\": \"\", \"exceptionClass\": \"\", \"trace\": \"\", \"outcomeType\": 4}}, \"*\")"
      ],
      "text/plain": [
       "<IPython.core.display.Javascript object>"
      ]
     },
     "metadata": {},
     "output_type": "display_data"
    },
    {
     "data": {
      "text/markdown": [
       "<span style=\"color:#33cc99\">Solution:</span> \n",
       "```python\n",
       "country_variety_counts = reviews.groupby(['country', 'variety']).size().sort_values(ascending=False)\n",
       "```"
      ],
      "text/plain": [
       "Solution: \n",
       "```python\n",
       "country_variety_counts = reviews.groupby(['country', 'variety']).size().sort_values(ascending=False)\n",
       "```"
      ]
     },
     "metadata": {},
     "output_type": "display_data"
    }
   ],
   "source": [
    "#q6.hint()\n",
    "q6.solution()"
   ]
  },
  {
   "cell_type": "markdown",
   "id": "0c328b51",
   "metadata": {
    "papermill": {
     "duration": 0.007351,
     "end_time": "2022-11-28T17:46:32.801193",
     "exception": false,
     "start_time": "2022-11-28T17:46:32.793842",
     "status": "completed"
    },
    "tags": []
   },
   "source": [
    "# Keep going\n",
    "\n",
    "Move on to the [**data types and missing data**](https://www.kaggle.com/residentmario/data-types-and-missing-values)."
   ]
  },
  {
   "cell_type": "markdown",
   "id": "94ceac81",
   "metadata": {
    "papermill": {
     "duration": 0.007277,
     "end_time": "2022-11-28T17:46:32.816067",
     "exception": false,
     "start_time": "2022-11-28T17:46:32.808790",
     "status": "completed"
    },
    "tags": []
   },
   "source": [
    "---\n",
    "\n",
    "\n",
    "\n",
    "\n",
    "*Have questions or comments? Visit the [course discussion forum](https://www.kaggle.com/learn/pandas/discussion) to chat with other learners.*"
   ]
  }
 ],
 "metadata": {
  "kernelspec": {
   "display_name": "Python 3",
   "language": "python",
   "name": "python3"
  },
  "language_info": {
   "codemirror_mode": {
    "name": "ipython",
    "version": 3
   },
   "file_extension": ".py",
   "mimetype": "text/x-python",
   "name": "python",
   "nbconvert_exporter": "python",
   "pygments_lexer": "ipython3",
   "version": "3.7.12"
  },
  "papermill": {
   "default_parameters": {},
   "duration": 12.094575,
   "end_time": "2022-11-28T17:46:33.444388",
   "environment_variables": {},
   "exception": null,
   "input_path": "__notebook__.ipynb",
   "output_path": "__notebook__.ipynb",
   "parameters": {},
   "start_time": "2022-11-28T17:46:21.349813",
   "version": "2.3.4"
  }
 },
 "nbformat": 4,
 "nbformat_minor": 5
}
